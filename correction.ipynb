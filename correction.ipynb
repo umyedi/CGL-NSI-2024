{
 "cells": [
  {
   "cell_type": "markdown",
   "metadata": {},
   "source": [
    "# Introduction\n",
    "\n",
    "Ce corrigé a été écrit par un lycée en classe de terminale, il est donc problable qu'il y ait des erreurs ou que les réponses ne soient pas optimales. Pour pouvoir utiliser les fonction et variables données par le sujet, veuillez exécuter le code ci-dessous."
   ]
  },
  {
   "cell_type": "code",
   "execution_count": 1,
   "metadata": {},
   "outputs": [],
   "source": [
    "import tests\n",
    "from utils import lacher, Infty, Sommet, Face, DArete"
   ]
  },
  {
   "cell_type": "markdown",
   "metadata": {},
   "source": [
    "# 1 DÉTERMINATION DE LA RÉSISTANCE D'ŒUFS\n",
    "\n",
    "On s'intéresse ici au problème crucial de la resistance des oeufs à des chutes\n",
    "\n",
    "<figure>\n",
    "    <img src=\"assets/figures/figure_1.png\" alt=\"Figure 1\">\n",
    "    <figcaption>FIGURE 1 - Dispositif expérimental pour tester la résistance des œufs</figcaption>\n",
    "</figure>\n",
    "\n",
    "Le dispositif expérimental présenté à la figure 1 consiste à lâcher des œufs depuis des hauteurs variables et à constater lesquels se brisent. Plus précisément, on suppose disposer d'un immeuble de grande hauteur de $n$ étages ainsi que d'un certain nombre, $k$, d'œufs, et on cherche quel est le plus petit étage tel qu'un œuf lâché de cet étage se brise au sol. Cet étage, s'il existe, est appelé *étage critique*. Pour simplifier le modèle, nous supposons que tous les œufs ont la même résistance et, en outre, qu'un œuf tombé au sol sans se briser conserve sa résistance initiale et peut donc être utilisé pour un nouveau lâcher.\n",
    "\n",
    "On cherche, compte tenu du nombre d'étages $n$ et du nombre d'œufs disponibles $k$, à minimiser le nombre de lâchers nécessaires à la détermination de l'étage critique. On ne considère pas le rez-de-chaussée : les étages testés sont de\n",
    "$1$ à $n$.\n",
    "\n",
    "**Remarque** : Lorsque le nombre $k$ est petit, il faut faire attention car un œuf, s'il casse parce qu'on teste un étage trop élevé, ne peut plus être utilisé.\n",
    "\n",
    "L'objectif de cet exercice est de trouver une stratégie \"efficace\" pour découvrir l'étage critique. L'efficacité mesure ici le nombre de lâchés (qu'on cherche à minimiser) et non pas le nombre d'œufs cassés. (La question 2 montre qu'on peut trouver l'étage critique avec un seul œuf.)\n",
    "\n",
    "## 1.1 EXEMPLE DE STRAÉGIE POUR DES CAS PARTICULIERS\n",
    "\n",
    "**On suppose disposer d'une fonction `lacher` de paramètre $i$ qui simule le lâcher d'un œuf depuis l'étage $i$ et renvoie `True` si l'œuf est brisé, `False` sinon.**\n",
    "\n",
    "**Attention, on suppose que cette fonction provoque une erreur lorsqu'il n'y a plus d'œuf disponible.**\n",
    "\n",
    "\n",
    "> **Question 1.** On suppose dans cette question que quelqu'un prétend que l'étage critique est $c$ avec $c > 1$. On veut vérifier ce fait en utilisant un seul œuf. Écrire une fonction `verif_etage_critique` prenant en paramètre $c$ et renvoyant `True` si c'est bien l'étage critique et `False` sinon."
   ]
  },
  {
   "cell_type": "code",
   "execution_count": 19,
   "metadata": {},
   "outputs": [],
   "source": [
    "def verif_etage_critique(c): ...\n",
    "\n",
    "# Vérifie que la fonction est correcte\n",
    "tests.test_verif_etage_critique(verif_etage_critique)"
   ]
  },
  {
   "cell_type": "markdown",
   "metadata": {},
   "source": [
    "> **Question 2.** On suppose dans cette question qu'on ne dispose que d'un seul œuf : $k = 1$. Écrire une fonction `critique_un_seul_oeuf` prenant en paramètre un entier naturel $n$ correspondant au nombre d'étages de l'immeuble et renvoyant l'étage critique associé. Si l'étage critique n'existe pas, `critique_un_seul_oeuf` renvoie $n + 1$."
   ]
  },
  {
   "cell_type": "code",
   "execution_count": 2,
   "metadata": {},
   "outputs": [],
   "source": [
    "def critique_un_seul_oeuf(n): ...\n",
    "\n",
    "# Vérifie que la fonction est correcte\n",
    "tests.test_critique_un_seul_oeuf(critique_un_seul_oeuf)"
   ]
  },
  {
   "cell_type": "markdown",
   "metadata": {},
   "source": [
    "> **Question 3.** On suppose maintenant qu'on dispose d'autant d'œufs que d'étages : $k = n$.\n",
    "> 1. Justifier qu'on peut déterminer l'étage critique par une méthode dichotomique."
   ]
  },
  {
   "cell_type": "raw",
   "metadata": {},
   "source": []
  },
  {
   "cell_type": "markdown",
   "metadata": {},
   "source": [
    "> 2. Donner l'ordre de grandeur du nombre de lâchers nécessaires selon cette méthode."
   ]
  },
  {
   "cell_type": "raw",
   "metadata": {},
   "source": []
  },
  {
   "cell_type": "markdown",
   "metadata": {},
   "source": [
    "> 3. Programmer une fonction `critique_dichotomie` prenant en paramètre un entier naturel $n$ correspondant au nombre d'étages de l'immeuble et renvoyant l'étage critique associé. Si l'étage critique n'existe pas, `critique_dichotomie` renvoie $n + 1$.\n"
   ]
  },
  {
   "cell_type": "code",
   "execution_count": null,
   "metadata": {},
   "outputs": [],
   "source": [
    "def critique_dichotomie(n): ...\n",
    "\n",
    "# Vérifie que la fonction est correcte\n",
    "tests.test_critique_dichotomie(critique_dichotomie)"
   ]
  },
  {
   "cell_type": "markdown",
   "metadata": {},
   "source": [
    "> 4. Prouver la terminaison de la fonction `critique_dichotomie`."
   ]
  },
  {
   "cell_type": "raw",
   "metadata": {},
   "source": []
  },
  {
   "cell_type": "markdown",
   "metadata": {},
   "source": [
    "> **Question 4.** On suppose ici que l'on dispose de deux œufs : $k = 2$ et que le nombre d'étages $n$ est de la forme $p^2$. Montrer qu'on peut déterminer l'étage critique avec un nombre de lâchers de l'ordre de $2p$.\n",
    "\n",
    "## 1.2 ÉTUDE DU CAS GÉNÉRAL\n",
    "\n",
    "On cherche à résoudre le problème par programmation dynamique. On note $L(e, r)$ le nombre minimal de lâchers nécessaires, dans le pire cas, à la détermination de l'étage critique lorsqu'il y a $e$ étages à tester et qu'on dispose de $r$ œufs restants. On a donc $e \\leq n$ et $r \\leq k$.\n",
    "\n",
    "> **Question 5.** On considère dans cette question que tous les étages restent à tester, on a donc $e = n$.\n",
    "> On suppose, de plus, $r > 0$ et on lâche un œuf de l'étage $i$.\n",
    "> 1. Si l'œuf se casse, combien d'étages reste-t-il à tester et de combien d'œufs dispose-t-on alors?\n",
    "> 2. Si l'œuf ne se casse pas après le lâcher de l'étage $i$, doit-on tester les étages $i - 1$, $i - 2$, etc. ? De combien d'œufs dispose-t-on alors, et combien d'étages doit-on encore tester ?\n",
    "\n",
    "> **Question 6.** Montrer que pour $r > 0$ et $e > 0$,\n",
    "> $$\n",
    "> L(e, r) = 1 + \\underset{1 \\leq i \\leq e}{\\min}(\\max(L(i-1, r-1), L(e-i, r)))\n",
    "> $$\n",
    "> Autrement dit, $L(e, r)$ peut être calculé en parcourant les indices $i$ de $1$ à $e$ pour chercher le minimum des valeurs de $\\max(L(i - 1, r - 1), L(e -i,r))$ et en ajoutant $1$ au résultat.\n",
    "\n",
    "On fixe de plus $L(0, r) = 0$ pour tout $r$, et pour $e > 0$, $L(e, 0) = +\\infty$. En Python, on suppose disposer d'une valeur `Infty` représentant $+\\infty$. Cette valeur se comporte comme on l'attend mathématiquement pour les opérations usuelles, c'est-à-dire que pour tout entier $x$ :\n",
    "- `Infty + x = Infty`\n",
    "- `Infty > x`\n",
    "\n",
    "> **Question 7.** Écrire une fonction `L` qui étant donné $e$ et $r$ renvoie $L(e, r)$. Pour obtenir tous les points, vous devrez justifier que le coût d'exécution en temps de votre fonction est de l'ordre de $e^2r$.\n"
   ]
  },
  {
   "cell_type": "code",
   "execution_count": null,
   "metadata": {},
   "outputs": [],
   "source": [
    "def L(e, r): ...\n",
    "\n",
    "# Vérifie que la fonction est correcte\n",
    "tests.test_L(L)"
   ]
  },
  {
   "cell_type": "markdown",
   "metadata": {},
   "source": [
    "On souhaite à présent écrire une fonction qui détermine l'étage critique en appliquant la stratégie optimale conçue ci-dessus.\n",
    "\n",
    "> **Question 8.** Adapter la fonction précédente en une fonction `Lprec` qui renvoie un dictionnaire ou une matrice `prec` (selon la méthode adoptée pour `L`), indiquant pour chaque couple `(e, r)` quel est le `i` utilisé pour réaliser le `min` dans le calcul de $L(e, r)$."
   ]
  },
  {
   "cell_type": "code",
   "execution_count": null,
   "metadata": {},
   "outputs": [],
   "source": [
    "def Lprec(e, r): ...\n",
    "\n",
    "# Vérifie que la fonction est correcte\n",
    "tests.test_Lprec(Lprec)"
   ]
  },
  {
   "cell_type": "markdown",
   "metadata": {},
   "source": [
    "> **Question 9.** Écrire une fonction `strategie` qui prend en paramètres `prec`, `n` et `k`, applique la stratégie en suivant les informations stockées dans `prec` et renvoie l'étage critique. Si l'étage critique n'existe pas, `strategie` renvoie $n + 1$. Pour rappel, la fonction `lacher` présentée au début permet de simuler les lâchers d'œufs.\n",
    "> Indication : on peut utiliser une fonction récursive qui prend en paramètres :\n",
    "> - `prec` calculé par la fonction précédente,\n",
    "> - `k` le nombre d'œufs restants,\n",
    "> - `niv_haut` le numéro du plus haut étage d'où l'œuf pourrait ne pas se casser,\n",
    "> - `niv_bas` le numéro du plus bas étage d'où l'œuf pourrait se casser, et qui renvoie l'étage critique s'il est entre `niv_bas` et `niv_haut`, `niv_haut + 1` sinon.\n",
    "> Attention à ne pas oublier le décalage à opérer dans le choix de l'étage d'où lâcher l'œuf lorsque `niv_bas` $\\not=1$."
   ]
  },
  {
   "cell_type": "code",
   "execution_count": null,
   "metadata": {},
   "outputs": [],
   "source": [
    "def strategie(prec, n, k): ...\n",
    "\n",
    "# Vérifie que la fonction est correcte\n",
    "tests.test_strategie(strategie)"
   ]
  },
  {
   "cell_type": "markdown",
   "metadata": {},
   "source": [
    "# 2 REPRÉSENTER ET MANIPULER DES DONNÉES EN TROIS DIMENSIONS\n",
    "\n",
    "Le but de ce problème est de réfléchir à la manière dont on peut représenter et manipuler des données en trois dimensions. Ces données peuvent être des surfaces géométriques comme des maillages ou des données volumétriques comme la température de l'air en tout point.\n",
    "\n",
    "Les applications sont innombrables. Citons par exemple les données issues d'un scanner médical ou la représentation détaillée d'une maison en architecture.\n",
    "\n",
    "La grande quantité de données à traiter dans ces applications demande de réfléchir à la fois sur l'efficacité du stockage et sur la complexité des manipulations.\n",
    "\n",
    "Ce problème étudie deux représentations différentes :\n",
    "- une représentation dite *pleine* qui découpe les solides en cubes élémentaires appelés des *voxels*;\n",
    "- une représentation dite *creuse* qui ne stocke que la surface externe d'un solide sous la forme d'un maillage de faces polygonales.\n",
    "\n",
    "Ces représentations sont illustrées sur la figure 2.\n",
    "\n",
    "<figure>\n",
    "    <img src=\"assets/figures/figure_2.png\" alt=\"Figure 2\">\n",
    "    <figcaption>FIGURE 2 - Le <i>lapin de Stanford</i> représenté par des voxels (<i>à gauche</i>) et par maillage (<i>à droite</i>)</figcaption>\n",
    "</figure>\n",
    "\n",
    "Dans ce sujet, les points de l'espace sont représentés par des triplets `(x, y ,z)` de nombres, flottants ou entiers selon les cas.\n",
    "\n",
    "Une face d'un solide est représentée par un tableau de points `[pO,p1,..., pn]` indiquant qu'elle est délimitée par\n",
    "les arêtes `(po,p1),(p1,p2),...,(pn,po)`.\n",
    "\n",
    "Ainsi, la face représentée par `[(0,0,0),(2,0,2),(1,1, 1),(1,3, 1),(0,3,0)]` est illustrée sur la figure 3.\n",
    "\n",
    "Lorsque la face comporte plus de trois points, on supposera qu'ils appartiennent tous à un même plan.\n",
    "\n",
    "## 2.1 REPRÉSENTATION PAR VOXELS\n",
    "\n",
    "### 2.1.1 DÉFINITION D'UN VOXEL\n",
    "\n",
    "On sait qu'une image est naturellement représentée par un tableau de *pixels* identifiés par leurs coordonnées entières dans un repère. La partie gauche de la figure 4 présente des pixels et leurs coordonnées.\n",
    "\n",
    "On repère un pixel par son sommet inférieur gauche. Ainsi, le pixel $(x, y)$ correspond au carré de côté $1$ de sommets: $(x,7),(x+1,y),(x+1,y+1)$ et $(x,y+1)$. Ce repérage est indiqué dans la figure 4.\n",
    "\n",
    "<figure>\n",
    "    <img src=\"assets/figures/figure_3.png\" alt=\"Figure 3\">\n",
    "    <figcaption>FIGURE 3 - Exemple de face</figcaption>\n",
    "</figure>\n",
    "\n",
    "<figure>\n",
    "    <img src=\"assets/figures/figure_4.png\" alt=\"Figure 4\">\n",
    "    <figcaption>FIGURE 4 - Pixels : coordonnées entières (<i>à gauche</i>) et représentation dans le plan en tant que carré (<i>à droite</i>)</figcaption>\n",
    "</figure>\n",
    "\n",
    "On considère maintenant l'espace à 3 dimensions et les *voxels* sont la généralisation à 3 dimensions des pixels :\n",
    "- un voxel est un cube de coté $1$ dont les sommets sont repérés par des coordonnées entières;\n",
    "- un voxel est repéré par son sommet dont les trois coordonnées sont les plus petites dans le cube;\n",
    "- ainsi le voxel $(x, y, z)$ représente le cube de sommets : $(x,y,z),(x+1,y,z),(x,y+1,2),(x,y,z+1),\\dots$.\n",
    "\n",
    "<figure>\n",
    "    <img src=\"assets/images/image_1.png\" alt=\"Image 1\">\n",
    "</figure>\n",
    "\n",
    "> **Question 10.** Un voxel comporte 6 faces, chaque face comporte 4 sommets. Écrire une fonction `faces` qui prend en argument un voxel donné par un triplet de coordonnées entières et qui renvoie le tableau de ses faces, où chaque face est un tableau de 4 points de l'espace, à coordonnées entières, selon la représentation décrite pré-cédemment."
   ]
  },
  {
   "cell_type": "code",
   "execution_count": null,
   "metadata": {},
   "outputs": [],
   "source": [
    "def faces(v): ...\n",
    "\n",
    "# Vérifie que la fonction est correcte\n",
    "tests.test_faces(faces)"
   ]
  },
  {
   "cell_type": "markdown",
   "metadata": {},
   "source": [
    "### 2.1.2 REPRÉSENTATION D'UN VOLUME PAR DES VOXELS\n",
    "\n",
    "Une manière naïve de représenter un volume est d'utiliser un tableau de voxels. Ainsi, le parallélépipède rectangle présenté sur la figure ci-dessous est donné par le tableau\n",
    "```python\n",
    "[ (0,0,0), (1,0,0), (2,0,0), (0,1,0), (1,1,0), (2,1,0) ]\n",
    "```\n",
    "\n",
    "<figure>\n",
    "    <img src=\"assets/images/image_2.png\" alt=\"Image 2\">\n",
    "</figure>\n",
    "\n",
    "\n",
    "Bien entendu, l'ordre des voxels n'est pas important et la représentation n'est pas unique.\n",
    "\n",
    "Chaque voxel comporte 6 faces, mais certaines d'entre elles ne sont pas des faces visibles. Ainsi, le parallélépipède précédent comporte 6 voxels, donc 36 faces, mais seules 22 sont visibles.\n",
    "\n",
    "> **Question 11.** Écrire une fonction `nb_faces_visibles` qui compte naïvement le nombre de faces visibles d'un volume donné par un tableau de voxels. On supposera que le tableau ne comporte aucun voxel en double. Le coût attendu de votre fonction pourra être quadratique en le nombre de voxels. Expliquer alors comment on pourrait améliorer cette fonction pour obtenir un coût linéaire.\n"
   ]
  },
  {
   "cell_type": "code",
   "execution_count": null,
   "metadata": {},
   "outputs": [],
   "source": [
    "def nb_faces_visibles(tab): ...\n",
    "\n",
    "# Vérifie que la fonction est correcte\n",
    "tests.test_nb_faces_visibles(nb_faces_visibles)"
   ]
  },
  {
   "cell_type": "markdown",
   "metadata": {},
   "source": [
    "### 2.1.3 ESTIMER LA SURFACE INTERNE ET EXTERNE D'UNE GÉODE\n",
    "\n",
    "Une géode est une cavité rocheuse tapissée de cristaux qu'on extrait sous la forme d'une grande pierre qu'il est alors nécessaire de casser pour en découvrir le contenu. On considère ici qu'un appareil de mesure a permis d'obtenir une représentation par voxels d'une géode qu'on va utiliser pour en déduire des informations sur celle-ci. La figure 5 illustre cette représentation.\n",
    "\n",
    "<figure>\n",
    "    <img src=\"assets/figures/figure_5.png\" alt=\"Figure 5\">\n",
    "    <figcaption>FIGURE 5 - L'intérieur d'une géode (<i>à gauche</i>), sa représentation par voxels entière (<i>au milieu</i>) et en coupe (<i>à droite</i>). <i>Source de la photographie : Circe Denyer, publiée en domaine public sur PublicDomainPictures.net</i></figcaption>\n",
    "</figure>\n",
    "\n",
    "Du point de vue géométrique, une géode est un volume connexe comportant un unique trou en son centre. Elle dispose donc d'une surface externe, la roche, et d'une surface interne, les cristaux. On cherche à estimer ici ces deux surfaces en comptant le nombre de faces de voxels qu'elles comportent.\n",
    "\n",
    "> **Question 12.** Expliquer pourquoi il suffit de savoir calculer la surface externe pour en déduire très simplement la surface interne."
   ]
  },
  {
   "cell_type": "raw",
   "metadata": {},
   "source": []
  },
  {
   "cell_type": "markdown",
   "metadata": {},
   "source": [
    "Pour calculer la surface externe, on va considérer le voxel de plus petite coordonnée en x.\n",
    "\n",
    "> **Question 13.** Déterminer une face de ce voxel qui appartient forcément à la surface externe."
   ]
  },
  {
   "cell_type": "raw",
   "metadata": {},
   "source": []
  },
  {
   "cell_type": "markdown",
   "metadata": {},
   "source": [
    "Pour résoudre ce problème, on va considérer une structure de graphe sur les faces visibles : chaque face visible est connectée à une autre face visible si elles partagent une arête.\n",
    "\n",
    "> **Question 14.** Que peut-on dire de l'ensemble des faces accessibles dans ce graphe depuis une face de la surface externe ?"
   ]
  },
  {
   "cell_type": "raw",
   "metadata": {},
   "source": []
  },
  {
   "cell_type": "markdown",
   "metadata": {},
   "source": [
    "> **Question 15.** Décrire informellement un algorithme sur ce graphe permettant de calculer la surface externe."
   ]
  },
  {
   "cell_type": "raw",
   "metadata": {},
   "source": []
  },
  {
   "cell_type": "markdown",
   "metadata": {},
   "source": [
    "> **Question 16.** Écrire une fonction `surface_externe` qui prend en argument une géode donnée par son tableau de voxels et renvoie le nombre de faces de sa surface externe."
   ]
  },
  {
   "cell_type": "code",
   "execution_count": null,
   "metadata": {},
   "outputs": [],
   "source": [
    "def surface_externe(tab): ...\n",
    "\n",
    "# Vérifie que la fonction est correcte\n",
    "tests.test_surface_externe(surface_externe)"
   ]
  },
  {
   "cell_type": "markdown",
   "metadata": {},
   "source": [
    "### 2.1.4 DES VOXELS EN ÉVOLUTION\n",
    "\n",
    "On considère le découpage de l'espace en voxels et on va considérer une caractérisation de ceux-ci en deux classes : les voxels actifs, en nombre fini, et les voxels inactifs, tous les autres.\n",
    "\n",
    "On dit que deux voxels sont voisins quand **ils partagent un même sommet**. Ainsi, chaque voxel a 26 voxels voisins.\n",
    "\n",
    "On décrit maintenant un processus évolutif. Lors de celui-ci, tous les voxels changent d'état simultanément selon les règles suivantes :\n",
    "- Si un voxel était actif et a exactement 2 ou 3 voisins actifs, il reste actif. Sinon, il devient inactif.\n",
    "- Si un voxel est inactif et a exactement 3 voisins actifs, il devient actif. Sinon, il reste inactif.\n",
    "\n",
    "> **Question 17.** Écrire une fonction `voisins` qui prend en paramètre un voxel et renvoie le tableau de ses 26 voisins.\n",
    "> **Attention :** votre fonction ne devra pas énumérer les voisins explicitement mais elle devra plutôt utiliser des boucles."
   ]
  },
  {
   "cell_type": "code",
   "execution_count": null,
   "metadata": {},
   "outputs": [],
   "source": [
    "def voisins(v): ...\n",
    "\n",
    "# Vérifie que la fonction est correcte\n",
    "tests.test_voisins(voisins)"
   ]
  },
  {
   "cell_type": "markdown",
   "metadata": {},
   "source": [
    "> **Question 18.** Écrire une fonction `evolution` qui prend en paramètre le tableau des voxels actifs avant l'application de ce processus et renvoie le tableau des voxels actifs à l'issue de celui-ci.\n",
    "> Note : les réponses garantissant un coût linéaire par rapport au nombre de voxels actifs seront valorisées."
   ]
  },
  {
   "cell_type": "code",
   "execution_count": null,
   "metadata": {},
   "outputs": [],
   "source": [
    "def evolution(tab): ...\n",
    "\n",
    "# Vérifie que la fonction est correcte\n",
    "tests.test_evolution(evolution)"
   ]
  },
  {
   "cell_type": "markdown",
   "metadata": {},
   "source": [
    "## 2.2 REPRÉSENTATION PAR UN MAILLAGE\n",
    "\n",
    "Manipuler des voxels présente l'avantage de pouvoir représenter facilement des volumes complexes comme cela peut être le cas avec des données provenant de capteurs physiques. Cependant, la structure de cette représentation demande un très grand volume de stockage et les algorithmes de manipulation dépendent du nombre de voxels.\n",
    "\n",
    "On va maintenant s'intéresser à une représentation plus efficace consistant à décomposer la surface en un ensemble de faces polygonales reliées entre elles : on parle de *maillage*.\n",
    "\n",
    "Contrairement aux voxels, il va falloir manipuler des coordonnées non entières. Pour cela, on va considérer des nombres flottants.\n",
    "\n",
    "> **Question 19.** Les nombres flottants des ordinateurs sont très différents des nombres réels mathématiques. Quels problèmes cela peut-il poser pour tester si deux points sont identiques ? Proposez une manière d'y remédier."
   ]
  },
  {
   "cell_type": "raw",
   "metadata": {},
   "source": []
  },
  {
   "cell_type": "markdown",
   "metadata": {},
   "source": [
    "Dans la suite de ce problème, nous ignorerons les difficultés liées aux manipulations de flottants.\n",
    "\n",
    "### 2.2.1 PREMIÈRE REPRÉSENTATION\n",
    "\n",
    "Un maillage est représenté dans cette partie par deux tableaux :\n",
    "- un tableau $S$ de sommets chacun sous la forme d'un triplet de nombres flottants;\n",
    "- un tableau $F$ de faces sous la forme du tableau des indices dans $S$ de ses sommets.\n",
    "\n",
    "```python\n",
    "S = [ (0.,0.,0.), (1.,0.,0.), (0.,0.,1.), (1.,0.,1.), (.5,2.,.5) ]\n",
    "F = [ [0,1,2,3], [0,1,4], [1,2,4], [2,3,4], [3,0,4] ]\n",
    "```\n",
    "\n",
    "<figure>\n",
    "    <img src=\"assets/images/image_3.png\" alt=\"Image 3\">\n",
    "</figure>\n",
    "\n",
    "> **Question 20.** Écrire une fonction `faces_adjacentes_sommet` qui prend en paramètres un tableau de faces `F` décrivant une surface, l'indice d'un sommet `p`, et qui renvoie le tableau des indices dans `F` des faces contenant le sommet d'indice `p`."
   ]
  },
  {
   "cell_type": "code",
   "execution_count": null,
   "metadata": {},
   "outputs": [],
   "source": [
    "def faces_adjacentes_sommet(F, p): ...\n",
    "\n",
    "# Vérifie que la fonction est correcte\n",
    "tests.test_faces_adjacentes_sommet(faces_adjacentes_sommet)"
   ]
  },
  {
   "cell_type": "markdown",
   "metadata": {},
   "source": [
    "> **Question 21.** Écrire une fonction `faces_adjacentes_cote` qui prend en paramètres un tableau de faces `F` décrivant une surface, l'indice d'une face `k` et qui renvoie le tableau des indices dans `F` des faces ayant un sommet commun avec la face d'indice `k`."
   ]
  },
  {
   "cell_type": "code",
   "execution_count": null,
   "metadata": {},
   "outputs": [],
   "source": [
    "def faces_adjacentes_cote(F, k): ...\n",
    "\n",
    "# Vérifie que la fonction est correcte\n",
    "tests.test_faces_adjacentes_cote(faces_adjacentes_cote)"
   ]
  },
  {
   "cell_type": "markdown",
   "metadata": {},
   "source": [
    "> **Question 22.** Estimer le coût des fonctions précédentes en fonction du nombre $n$ de faces et du plus grand nombre $s$ de sommets d'une face."
   ]
  },
  {
   "cell_type": "raw",
   "metadata": {},
   "source": []
  },
  {
   "cell_type": "markdown",
   "metadata": {},
   "source": [
    "Dans la plupart des applications, on se restreint à des surfaces *triangulées* : chaque face polygonale est un triangle.\n",
    "\n",
    "Une manière simple et naïve pour trianguler une surface est de couper chaque face polygonale en plusieurs triangles. Il n'existe pas une unique manière de trianguler une surface.\n",
    "\n",
    "La figure suivante présente une face pentagonale et deux triangulations possibles\n",
    "\n",
    "<figure>\n",
    "    <img src=\"assets/images/image_4.png\" alt=\"Image 4\">\n",
    "</figure>\n",
    "\n",
    "> **Question 23.** Écrire une fonction `triangule` qui prend en paramètre une surface donnée par un tableau `F` de faces et qui renvoie un tableau de faces triangulaires pour la même surface.\n",
    "> **On suppose que toutes les faces sont planes, c'est-à-dire que tous les sommets qui composent une face appartiennent à un même plan.**"
   ]
  },
  {
   "cell_type": "code",
   "execution_count": null,
   "metadata": {},
   "outputs": [],
   "source": [
    "def triangule(F): ...\n",
    "\n",
    "# Vérifie que la fonction est correcte\n",
    "tests.test_triangule(triangule)"
   ]
  },
  {
   "cell_type": "markdown",
   "metadata": {},
   "source": [
    "### 2.2.2 REPRÉSENTATION PAR DEMI-ARÊTES\n",
    "\n",
    "La représentation précédente est utile quand il s'agit de stocker ou d'afficher simplement une surface. Cependant, elle est peu efficace dans le cas de traitements complexes des surfaces. Pour cela, on va introduire un raffinement : la représentation par demi-arêtes.\n",
    "\n",
    "Une demi-arête est une arête munie d'un sens de parcours. Ainsi, chaque arête conduit naturellement à deux demi-arêtes, ce qui justifie leur nom. Une demi-arête a un sommet source et un sommet but.\n",
    "\n",
    "<figure>\n",
    "    <img src=\"assets/figures/figure_6.png\" alt=\"Figure 6\">\n",
    "    <figcaption>FIGURE 6 - Une arête et sa séparation en deux demi-arêtes</figcaption>\n",
    "</figure>\n",
    "\n",
    "On se restreint ici à des surfaces **fermées bien subdivisées**, c'est-à-dire des surfaces dont le maillage est complet, ne présente aucun trou - ce qui n'interdit pas qu'elle soit en plusieurs morceaux tous fermés - et où deux faces adjacentes partagent une même arête - ce qui signifie qu'aucun sommet n'appartient à une arête sans en être une des deux extremités.\n",
    "\n",
    "Comme illustré sur la figure 7, les faces ont alors une orientation naturelle vers l'extérieur, ce qui permet de définir deux sens de parcours des sommets et des arêtes : un sens anti-horaire intérieur et un sens horaire extérieur. Comme la surface est fermée, chaque demi-arête est l'arête intérieure d'exactement une face et arête extérieure d'exactement une autre face.\n",
    "\n",
    "<figure>\n",
    "    <img src=\"assets/figures/figure_7.png\" alt=\"Figure 7\">\n",
    "    <figcaption>FIGURE 7 - Orientation vers l'extérieur des faces d'une surface fermée (<i>à gauche</i>) et classification induite des demi-arêtes (<i>à droite</i>)</figcaption>\n",
    "</figure>\n",
    "\n",
    "On va considérer maintenant des données plus riches que des tuples ou des tableaux afin de permettre de faire des liens entre les différents éléments composant une surface.\n",
    "\n",
    "On va ainsi définir trois classes : `Sommet`, `Face` et `DArete`. Dans la mesure où il y a des dépendances cycliques, il est impossible de définir, à la construction, l'ensemble de ces informations.\n",
    "\n",
    "```python\n",
    "class Sommet:\n",
    "    def __init__(self, x, y, z):\n",
    "        self.x = x\n",
    "        self.y = y\n",
    "        self.z = z\n",
    "        self.darete = None # à remplir plus tard\n",
    "\n",
    "class Face:\n",
    "    def __init__(self):\n",
    "        self.darete = None # à remplir plus tard\n",
    "\n",
    "class DArete:\n",
    "    def __init__(self, source, but, face):\n",
    "        # si la face n'a pas encore de demi-arête associée\n",
    "        # on utilise celle-ci\n",
    "        if face.darete is None:\n",
    "            face.darete = self\n",
    "        # si le sommet source n'a pas encore de demi-arête\n",
    "        # associée on utilise celle-ci\n",
    "        if source.darete is None:\n",
    "            source.darete = self\n",
    "        self.source = source\n",
    "        self.but = but\n",
    "        self.face = face\n",
    "        self.suivant = None # à remplir plus tard\n",
    "        self.miroir = None # à remplir plus tard\n",
    "```\n",
    "\n",
    "Après la phase d'initialisation, on dira que les valeurs sont valides lorsque les propriétés suivantes sont garanties :\n",
    "- si `s` est un sommet, alors `s.darete` est une demi-arête valide et `s.darete.source == s`;\n",
    "- si `f` est une face, alors `f.darete` est une demi-arête valide telle que `f.darete.face == f`. De plus, `f.darete` est intérieure pour `f`;\n",
    "- si `a` est une demi-arête, alors `a.face` est la face dont c'est une arête intérieure, `a.source` est son sommet source, `a.but` est son sommet but, `a.miroir` est sa demi-arête opposée et `a.suivant` est la demi-arête intérieure suivante pour `a.face`.\n",
    "\n",
    "<figure>\n",
    "    <img src=\"assets/figures/figure_8.png\" alt=\"Figure 8\">\n",
    "    <figcaption>FIGURE 8 - Une partie d'un maillage d'une surface</figcaption>\n",
    "</figure>\n",
    "\n",
    "> **Question 24.** On considère une partie d'un maillage présenté sur la figure 8.\n",
    "> En partant de la demi-arête `a`, on peut obtenir la demi-arête `c` avec l'expression `a.suivant.miroir`.\n",
    "> Donner une expression Python dont la valeur est :\n",
    "> 1. la demi-arête b;\n",
    "> 2. la face f."
   ]
  },
  {
   "cell_type": "code",
   "execution_count": null,
   "metadata": {},
   "outputs": [],
   "source": [
    "b = ...\n",
    "f = ...\n",
    "\n",
    "# Vérifie que les variables sont correctes\n",
    "tests.test_variables(b, f)"
   ]
  },
  {
   "cell_type": "markdown",
   "metadata": {},
   "source": [
    "> **Question 25.** Écrire des fonctions `valide_sommet` et `valide_face` renvoyant un booléen indiquant si les conditions précédentes sur les sommets et les faces sont remplies pour un sommet ou une face donnés.\n",
    "> Attention : la notion intérieur/extérieur dépendant du point de vue ou de la connaissance de l'ensemble de la surface, on ne pourra pas en tenir compte."
   ]
  },
  {
   "cell_type": "code",
   "execution_count": null,
   "metadata": {},
   "outputs": [],
   "source": [
    "def valide_sommet(s): ...\n",
    "def valide_face(f): ...\n",
    "\n",
    "# Vérifie que les fonctions sont correctes\n",
    "tests.test_valide_sommet(valide_sommet)\n",
    "tests.test_valide_face(valide_face)"
   ]
  },
  {
   "cell_type": "markdown",
   "metadata": {},
   "source": [
    "> **Question 26.** Écrire une fonction `valide_darete` renvoyant un booléen indiquant si les conditions précédentes sur les demi-arêtes sont remplies pour une demi-arête donnée.\n",
    "> Indication : Il s'agira notamment de vérifier qu'on a une chaîne de demi-arêtes toutes associées à la même face."
   ]
  },
  {
   "cell_type": "code",
   "execution_count": null,
   "metadata": {},
   "outputs": [],
   "source": [
    "def valide_darete(f): ...\n",
    "\n",
    "# Vérifie que la fonction est correcte\n",
    "tests.test_valide_darete(valide_darete)"
   ]
  },
  {
   "cell_type": "markdown",
   "metadata": {},
   "source": [
    "> **Question 27.** À quelle structure de données étudiée en classe peut-on rapprocher la structure des demi-arêtes avec l'attribut suivant ?"
   ]
  },
  {
   "cell_type": "raw",
   "metadata": {},
   "source": []
  },
  {
   "cell_type": "markdown",
   "metadata": {},
   "source": [
    "> **Question 28.** Écrire une fonction `faces_voisines` qui prend en argument une face et renvoie le tableau des faces qui partagent une arête avec celle-ci."
   ]
  },
  {
   "cell_type": "code",
   "execution_count": null,
   "metadata": {},
   "outputs": [],
   "source": [
    "def faces_voisines(f): ...\n",
    "\n",
    "# Vérifie que la fonction est correcte\n",
    "tests.test_faces_voisines(faces_voisines)"
   ]
  },
  {
   "cell_type": "markdown",
   "metadata": {},
   "source": [
    "> **Question 29.** Écrire une fonction `composante_connexe` qui prend en argument une face et renvoie le tableau des faces accessibles depuis celle-ci de proche en proche le long de la surface."
   ]
  },
  {
   "cell_type": "code",
   "execution_count": null,
   "metadata": {},
   "outputs": [],
   "source": [
    "def composante_connexe(f): ...\n",
    "\n",
    "# Vérifie que la fonction est correcte\n",
    "tests.test_composante_connexe(composante_connexe)"
   ]
  },
  {
   "cell_type": "markdown",
   "metadata": {},
   "source": [
    "> **Question 30.** Écrire une fonction `separe_face` telle que l'appel à `separe_face(f, a, b)` où `a` et `b` sont deux sommets non adjacents de la face `f` subdivise la face en deux en rajoutant une arête entre `a` et `b` et renvoie une des demi-arêtes ainsi crée.\n",
    "> **Attention** : votre fonction devra garantir que les nouvelles valeurs sont valides."
   ]
  },
  {
   "cell_type": "code",
   "execution_count": null,
   "metadata": {},
   "outputs": [],
   "source": [
    "def separe_face(f, a, b): ...\n",
    "\n",
    "# Vérifie que la fonction est correcte\n",
    "tests.test_separe_face(separe_face)"
   ]
  },
  {
   "cell_type": "markdown",
   "metadata": {},
   "source": [
    "### 2.2.3 SÉRIALISATION DANS UNE BASE DE DONNÉES\n",
    "\n",
    "Dans cette partie, on va chercher à stocker dans une base de données la représentation par demi-arêtes précédente.\n",
    "\n",
    "On considère le schéma de base de données suivant :\n",
    "\n",
    "<figure>\n",
    "    <img src=\"assets/images/image_5.png\" alt=\"Image 5\">\n",
    "</figure>\n",
    "\n",
    "Ce schéma est très proche des classes précédentes, la nuance principale provient du fait que les sommets, faces et demi-arêtes ont des identificateurs uniques, des clés primaires entières, et que le lien entre les valeurs se fait par l'intermédiaire de ces identificateurs, c'est la notion de clés étrangères.\n",
    "\n",
    "Question 31. Identifier avec précision les clés primaires et les clés étrangères."
   ]
  },
  {
   "cell_type": "raw",
   "metadata": {},
   "source": []
  },
  {
   "cell_type": "markdown",
   "metadata": {},
   "source": [
    "On rappelle que pour insérer un sommet d'identificateur 4, de coordonnées $(1, 0.3, 2)$ et dont l'identificateur de la demi-arête choisie est $8$, il faut écrire :\n",
    "\n",
    "```sql\n",
    "INSERT INTO sommet VALUES (4, 1, 0.3, 2, 8);\n",
    "```\n",
    "\n",
    "On peut également insérer d'un coup, dans une même table, plusieurs valeurs en les mettant à la suite :\n",
    "\n",
    "```sql\n",
    "INSERT INTO sommet VALUES (4, 1, 0.3, 2, 8), (3, - 1.2, 0, 3, 7);\n",
    "```\n",
    "\n",
    "On suppose définie en Python une fonction `sql_execute` qui prend en argument une requête SQL sous forme de chaîne et l'exécute.\n",
    "\n",
    "On pourra ainsi réaliser la requête précédente ainsi en Python :\n",
    "\n",
    "```python\n",
    "request = 'INSERT INTO sommet VALUES (4, 1, 0.3, 2, 8), (3, - 1.2, 0, 3, 7);'\n",
    "sql_execute(request)\n",
    "```\n",
    "\n",
    "> **Question 32.** Écrire une fonction `serialise` qui prend en argument une surface fermée donnée sous la forme d'un tableau `S` de sommets, d'un tableau `F` de faces, d'un tableau `A` de demi-arêtes, et qui insère tous ces éléments dans la base de données.\n",
    "> **On supposera que tous les entiers sont disponibles comme identificateurs dans la base au moment où on évalue la fonction.**\n",
    "> Il faudra garantir que votre base est intègre à la fin des insertions : les champs `id` de chaque table doivent être des clés primaires et les contraintes de clés étrangères doivent être garanties."
   ]
  },
  {
   "cell_type": "code",
   "execution_count": null,
   "metadata": {},
   "outputs": [],
   "source": [
    "def serialise(S, F, A): ...\n",
    "\n",
    "# Vérifie que la fonction est correcte\n",
    "tests.test_serialise(serialise)"
   ]
  }
 ],
 "metadata": {
  "kernelspec": {
   "display_name": "Python 3",
   "language": "python",
   "name": "python3"
  },
  "language_info": {
   "codemirror_mode": {
    "name": "ipython",
    "version": 3
   },
   "file_extension": ".py",
   "mimetype": "text/x-python",
   "name": "python",
   "nbconvert_exporter": "python",
   "pygments_lexer": "ipython3",
   "version": "3.10.12"
  }
 },
 "nbformat": 4,
 "nbformat_minor": 2
}
